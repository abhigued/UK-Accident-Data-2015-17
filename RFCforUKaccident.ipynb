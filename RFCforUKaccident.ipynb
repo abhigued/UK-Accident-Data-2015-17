{
 "cells": [
  {
   "cell_type": "code",
   "execution_count": 2,
   "metadata": {},
   "outputs": [],
   "source": [
    "import numpy as np\n",
    "import matplotlib.pyplot as plt\n",
    "import pandas as pd\n",
    "import calendar\n",
    "from sklearn import preprocessing\n",
    "from sklearn.model_selection import train_test_split\n",
    "from sklearn.ensemble import RandomForestClassifier\n",
    "from sklearn.metrics import accuracy_score\n",
    "from sklearn.metrics import confusion_matrix\n",
    "from sklearn.metrics import classification_report"
   ]
  },
  {
   "cell_type": "code",
   "execution_count": 3,
   "metadata": {},
   "outputs": [
    {
     "name": "stderr",
     "output_type": "stream",
     "text": [
      "C:\\Users\\s1478186\\AppData\\Local\\Continuum\\anaconda3\\lib\\site-packages\\IPython\\core\\interactiveshell.py:3020: DtypeWarning: Columns (0) have mixed types. Specify dtype option on import or set low_memory=False.\n",
      "  interactivity=interactivity, compiler=compiler, result=result)\n",
      "C:\\Users\\s1478186\\AppData\\Local\\Continuum\\anaconda3\\lib\\site-packages\\IPython\\core\\interactiveshell.py:3020: DtypeWarning: Columns (31) have mixed types. Specify dtype option on import or set low_memory=False.\n",
      "  interactivity=interactivity, compiler=compiler, result=result)\n"
     ]
    }
   ],
   "source": [
    "Accidents_2015_file_path = 'C:/Users/s1478186/Downloads/MachineLearningData/Accidents_2015.csv'\n",
    "Accidents_2015_data = pd.read_csv(Accidents_2015_file_path)\n",
    "\n",
    "\n",
    "Accidents_2016_file_path = 'C:/Users/s1478186/Downloads/MachineLearningData/dftRoadSafety_Accidents_2016.csv'\n",
    "Accidents_2016_data = pd.read_csv(Accidents_2016_file_path)\n",
    "\n",
    "Accidents_2017_file_path = 'C:/Users/s1478186/Downloads/MachineLearningData/Acc.csv'\n",
    "Accidents_2017_data = pd.read_csv(Accidents_2017_file_path) \n"
   ]
  },
  {
   "cell_type": "code",
   "execution_count": 4,
   "metadata": {},
   "outputs": [
    {
     "name": "stdout",
     "output_type": "stream",
     "text": [
      "(140056, 32) (136621, 32) (129982, 32)\n"
     ]
    }
   ],
   "source": [
    "print(Accidents_2015_data.shape,Accidents_2016_data.shape,Accidents_2017_data.shape)"
   ]
  },
  {
   "cell_type": "code",
   "execution_count": 5,
   "metadata": {},
   "outputs": [],
   "source": [
    "x2k15 = pd.Series([]); y2k15 = pd.Series([]); z2k15 = pd.Series([]);\n",
    "x2k15 = np.cos(np.radians(Accidents_2015_data[\"Latitude\"]))*np.cos(np.radians(Accidents_2015_data[\"Longitude\"]));\n",
    "y2k15 = np.cos(np.radians(Accidents_2015_data[\"Latitude\"]))*np.sin(np.radians(Accidents_2015_data[\"Longitude\"]));\n",
    "z2k15 = np.sin(np.radians(Accidents_2015_data[\"Latitude\"]));\n",
    "\n",
    "x2k16 = pd.Series([]); y2k16 = pd.Series([]); z2k16 = pd.Series([]);\n",
    "x2k16 = np.cos(np.radians(Accidents_2016_data[\"Latitude\"]))*np.cos(np.radians(Accidents_2016_data[\"Longitude\"]));\n",
    "y2k16 = np.cos(np.radians(Accidents_2016_data[\"Latitude\"]))*np.sin(np.radians(Accidents_2016_data[\"Longitude\"]));\n",
    "z2k16 = np.sin(np.radians(Accidents_2016_data[\"Latitude\"]));\n",
    "\n",
    "x2k17 = pd.Series([]); y2k17 = pd.Series([]); z2k17 = pd.Series([]);\n",
    "x2k17 = np.cos(np.radians(Accidents_2017_data[\"Latitude\"]))*np.cos(np.radians(Accidents_2017_data[\"Longitude\"]));\n",
    "y2k17 = np.cos(np.radians(Accidents_2017_data[\"Latitude\"]))*np.sin(np.radians(Accidents_2017_data[\"Longitude\"]));\n",
    "z2k17 = np.sin(np.radians(Accidents_2017_data[\"Latitude\"]));\n",
    "\n",
    "Accidents_2015_data.insert(5, \"x\", x2k15)\n",
    "Accidents_2015_data.insert(6, \"y\", y2k15)\n",
    "Accidents_2015_data.insert(7, \"z\", z2k15)\n",
    "\n",
    "Accidents_2016_data.insert(5, \"x\", x2k16)\n",
    "Accidents_2016_data.insert(6, \"y\", y2k16)\n",
    "Accidents_2016_data.insert(7, \"z\", z2k16)\n",
    "\n",
    "Accidents_2017_data.insert(5, \"x\", x2k17)\n",
    "Accidents_2017_data.insert(6, \"y\", y2k17)\n",
    "Accidents_2017_data.insert(7, \"z\", z2k17)"
   ]
  },
  {
   "cell_type": "code",
   "execution_count": 6,
   "metadata": {},
   "outputs": [],
   "source": [
    "Accidents_2015_data['Date'] = pd.to_datetime(Accidents_2015_data['Date'], errors='coerce')\n",
    "Accidents_2015_data['year'] = Accidents_2015_data['Date'].dt.year \n",
    "time = pd.DatetimeIndex(Accidents_2015_data['Time'])\n",
    "Accidents_2015_data['AbsolutTimeMinutes'] = time.hour * 60 + time.minute\n",
    "\n",
    "sin_day =[None]*len(Accidents_2015_data); cos_day = [None]*len(Accidents_2015_data);\n",
    "for i in range(len(Accidents_2015_data)):\n",
    "    NoDays = calendar.monthrange(Accidents_2015_data['Date'][i].year,Accidents_2015_data['Date'][i].month)[1]\n",
    "    sin_day[i] = np.sin(2*np.pi*(Accidents_2015_data['Date'][i].day)/NoDays)\n",
    "    cos_day[i] = np.cos(2*np.pi*(Accidents_2015_data['Date'][i].day)/NoDays)\n",
    "\n",
    "Accidents_2015_data['sin_day_perMonth'] = sin_day\n",
    "Accidents_2015_data['cos_day_perMonth'] = cos_day\n",
    "\n",
    "sin_day =[None]*len(Accidents_2015_data); cos_day = [None]*len(Accidents_2015_data);\n",
    "for i in range(len(Accidents_2015_data)):\n",
    "    sin_day[i] = np.sin(2*np.pi*(Accidents_2015_data['Date'][i].dayofyear)/365)\n",
    "    cos_day[i] = np.cos(2*np.pi*(Accidents_2015_data['Date'][i].dayofyear)/365)\n",
    "\n",
    "Accidents_2015_data['sin_day_perYear'] = sin_day\n",
    "Accidents_2015_data['cos_day_perYear'] = cos_day"
   ]
  },
  {
   "cell_type": "code",
   "execution_count": 7,
   "metadata": {},
   "outputs": [],
   "source": [
    "Accidents_2016_data['Date'] = pd.to_datetime(Accidents_2016_data['Date'], errors='coerce')\n",
    "Accidents_2016_data['year'] = Accidents_2016_data['Date'].dt.year \n",
    "time = pd.DatetimeIndex(Accidents_2016_data['Time'])\n",
    "Accidents_2016_data['AbsolutTimeMinutes'] = time.hour * 60 + time.minute\n",
    "sin_day =[None]*len(Accidents_2016_data); cos_day = [None]*len(Accidents_2016_data);\n",
    "for i in range(len(Accidents_2016_data)):\n",
    "    NoDays = calendar.monthrange(Accidents_2016_data['Date'][i].year,Accidents_2016_data['Date'][i].month)[1]\n",
    "    sin_day[i] = np.sin(2*np.pi*(Accidents_2016_data['Date'][i].day)/NoDays)\n",
    "    cos_day[i] = np.cos(2*np.pi*(Accidents_2016_data['Date'][i].day)/NoDays)\n",
    "\n",
    "Accidents_2016_data['sin_day_perMonth'] = sin_day\n",
    "Accidents_2016_data['cos_day_perMonth'] = cos_day\n",
    "\n",
    "sin_day =[None]*len(Accidents_2016_data); cos_day = [None]*len(Accidents_2016_data);\n",
    "for i in range(len(Accidents_2016_data)):\n",
    "    sin_day[i] = np.sin(2*np.pi*(Accidents_2016_data['Date'][i].dayofyear)/366)\n",
    "    cos_day[i] = np.cos(2*np.pi*(Accidents_2016_data['Date'][i].dayofyear)/366)\n",
    "\n",
    "Accidents_2016_data['sin_day_perYear'] = sin_day\n",
    "Accidents_2016_data['cos_day_perYear'] = cos_day\n"
   ]
  },
  {
   "cell_type": "code",
   "execution_count": 8,
   "metadata": {},
   "outputs": [],
   "source": [
    "Accidents_2017_data['Date'] = pd.to_datetime(Accidents_2017_data['Date'], errors='coerce')\n",
    "Accidents_2017_data['year'] = Accidents_2017_data['Date'].dt.year \n",
    "time = pd.DatetimeIndex(Accidents_2017_data['Time'])\n",
    "Accidents_2017_data['AbsolutTimeMinutes'] = time.hour * 60 + time.minute\n",
    "sin_day =[None]*len(Accidents_2017_data); cos_day = [None]*len(Accidents_2017_data);\n",
    "for i in range(len(Accidents_2017_data)):\n",
    "    NoDays = calendar.monthrange(Accidents_2017_data['Date'][i].year,Accidents_2017_data['Date'][i].month)[1]\n",
    "    sin_day[i] = np.sin(2*np.pi*(Accidents_2017_data['Date'][i].day)/NoDays)\n",
    "    cos_day[i] = np.cos(2*np.pi*(Accidents_2017_data['Date'][i].day)/NoDays)\n",
    "\n",
    "Accidents_2017_data['sin_day_perMonth'] = sin_day\n",
    "Accidents_2017_data['cos_day_perMonth'] = cos_day\n",
    "\n",
    "sin_day =[None]*len(Accidents_2017_data); cos_day = [None]*len(Accidents_2017_data);\n",
    "for i in range(len(Accidents_2017_data)):\n",
    "    sin_day[i] = np.sin(2*np.pi*(Accidents_2017_data['Date'][i].dayofyear)/365)\n",
    "    cos_day[i] = np.cos(2*np.pi*(Accidents_2017_data['Date'][i].dayofyear)/365)\n",
    "\n",
    "Accidents_2017_data['sin_day_perYear'] = sin_day\n",
    "Accidents_2017_data['cos_day_perYear'] = cos_day"
   ]
  },
  {
   "cell_type": "code",
   "execution_count": 9,
   "metadata": {},
   "outputs": [
    {
     "data": {
      "image/png": "[encoded data removed]",
      "text/plain": [
       "<Figure size 432x288 with 1 Axes>"
      ]
     },
     "metadata": {
      "needs_background": "light"
     },
     "output_type": "display_data"
    }
   ],
   "source": [
    "Accidents_2017_data.sample(len(Accidents_2017_data)).plot.scatter('sin_day_perYear','cos_day_perYear').set_aspect('equal');"
   ]
  },
  {
   "cell_type": "code",
   "execution_count": 10,
   "metadata": {},
   "outputs": [
    {
     "data": {
      "image/png": "[encoded data removed]",
      "text/plain": [
       "<Figure size 432x288 with 1 Axes>"
      ]
     },
     "metadata": {
      "needs_background": "light"
     },
     "output_type": "display_data"
    }
   ],
   "source": [
    "Accidents_2015_data['month'] = Accidents_2015_data['Date'].dt.month\n",
    "Accidents_2016_data['month'] = Accidents_2016_data['Date'].dt.month\n",
    "Accidents_2017_data['month'] = Accidents_2017_data['Date'].dt.month\n",
    "\n",
    "Accidents_2015_data['sin_month'] = np.sin(2*np.pi*Accidents_2015_data.month/12)\n",
    "Accidents_2015_data['cos_month'] = np.cos(2*np.pi*Accidents_2015_data.month/12)\n",
    "Accidents_2015_data.drop('month', axis=1, inplace=True)\n",
    "\n",
    "\n",
    "Accidents_2016_data['sin_month'] = np.sin(2*np.pi*Accidents_2016_data.month/12)\n",
    "Accidents_2016_data['cos_month'] = np.cos(2*np.pi*Accidents_2016_data.month/12)\n",
    "Accidents_2016_data.drop('month', axis=1, inplace=True)\n",
    "\n",
    "Accidents_2017_data['sin_month'] = np.sin(2*np.pi*Accidents_2017_data.month/12)\n",
    "Accidents_2017_data['cos_month'] = np.cos(2*np.pi*Accidents_2017_data.month/12)\n",
    "Accidents_2017_data.drop('month', axis=1, inplace=True)\n",
    "\n",
    "\n",
    "#Accidents_2015_data.sample(len(Accidents_2015_data)).plot.scatter('sin_month','cos_month').set_aspect('equal');\n",
    "#Accidents_2016_data.sample(len(Accidents_2016_data)).plot.scatter('sin_month','cos_month').set_aspect('equal');\n",
    "Accidents_2017_data.sample(len(Accidents_2017_data)).plot.scatter('sin_month','cos_month').set_aspect('equal');"
   ]
  },
  {
   "cell_type": "code",
   "execution_count": 11,
   "metadata": {},
   "outputs": [
    {
     "data": {
      "image/png": "[encoded data removed]",
      "text/plain": [
       "<Figure size 432x288 with 1 Axes>"
      ]
     },
     "metadata": {
      "needs_background": "light"
     },
     "output_type": "display_data"
    },
    {
     "data": {
      "image/png": "[encoded data removed]",
      "text/plain": [
       "<Figure size 432x288 with 1 Axes>"
      ]
     },
     "metadata": {
      "needs_background": "light"
     },
     "output_type": "display_data"
    },
    {
     "data": {
      "image/png": "[encoded data removed]",
      "text/plain": [
       "<Figure size 432x288 with 1 Axes>"
      ]
     },
     "metadata": {
      "needs_background": "light"
     },
     "output_type": "display_data"
    }
   ],
   "source": [
    "minutes_in_day = 24*60\n",
    "\n",
    "Accidents_2015_data['sin_time'] = np.sin(2*np.pi*Accidents_2015_data.AbsolutTimeMinutes/(minutes_in_day-1))\n",
    "Accidents_2015_data['cos_time'] = np.cos(2*np.pi*Accidents_2015_data.AbsolutTimeMinutes/(minutes_in_day-1))\n",
    "Accidents_2015_data.drop('AbsolutTimeMinutes', axis=1, inplace=True)\n",
    "\n",
    "Accidents_2016_data['sin_time'] = np.sin(2*np.pi*Accidents_2016_data.AbsolutTimeMinutes/(minutes_in_day-1))\n",
    "Accidents_2016_data['cos_time'] = np.cos(2*np.pi*Accidents_2016_data.AbsolutTimeMinutes/(minutes_in_day-1))\n",
    "Accidents_2016_data.drop('AbsolutTimeMinutes', axis=1, inplace=True)\n",
    "\n",
    "Accidents_2017_data['sin_time'] = np.sin(2*np.pi*Accidents_2017_data.AbsolutTimeMinutes/(minutes_in_day-1))\n",
    "Accidents_2017_data['cos_time'] = np.cos(2*np.pi*Accidents_2017_data.AbsolutTimeMinutes/(minutes_in_day-1))\n",
    "Accidents_2017_data.drop('AbsolutTimeMinutes', axis=1, inplace=True)\n",
    "\n",
    "Accidents_2015_data.sample(len(Accidents_2015_data)).plot.scatter('sin_time','cos_time').set_aspect('equal');\n",
    "Accidents_2016_data.sample(len(Accidents_2016_data)).plot.scatter('sin_time','cos_time').set_aspect('equal');\n",
    "Accidents_2017_data.sample(len(Accidents_2017_data)).plot.scatter('sin_time','cos_time').set_aspect('equal');"
   ]
  },
  {
   "cell_type": "code",
   "execution_count": 12,
   "metadata": {},
   "outputs": [
    {
     "name": "stdout",
     "output_type": "stream",
     "text": [
      "(140056, 44) (136621, 44) (129982, 44)\n",
      "(406659, 44)\n"
     ]
    }
   ],
   "source": [
    "print(Accidents_2015_data.shape,Accidents_2016_data.shape,Accidents_2017_data.shape)\n",
    "Merged_Accidents = pd.concat([Accidents_2015_data, Accidents_2016_data, Accidents_2017_data], axis=0)\n",
    "print(Merged_Accidents.shape)"
   ]
  },
  {
   "cell_type": "code",
   "execution_count": 13,
   "metadata": {},
   "outputs": [],
   "source": [
    "Merged_Accidents=Merged_Accidents.reset_index(drop=True)"
   ]
  },
  {
   "cell_type": "code",
   "execution_count": 14,
   "metadata": {},
   "outputs": [
    {
     "name": "stdout",
     "output_type": "stream",
     "text": [
      "(406659, 804)\n",
      "['Accident_Index', 'Location_Easting_OSGR', 'Location_Northing_OSGR', 'Longitude', 'Latitude', 'x', 'y', 'z', 'Accident_Severity', 'Date', 'Time', '1st_Road_Number', '2nd_Road_Number', 'LSOA_of_Accident_Location', 'year', 'sin_day_perMonth', 'cos_day_perMonth', 'sin_day_perYear', 'cos_day_perYear', 'sin_month', 'cos_month', 'sin_time', 'cos_time', 'DOW_1', 'DOW_2', 'DOW_3', 'DOW_4', 'DOW_5', 'DOW_6', 'DOW_7', 'Number_of_Vehicles_1', 'Number_of_Vehicles_2', 'Number_of_Vehicles_3', 'Number_of_Vehicles_4', 'Number_of_Vehicles_5', 'Number_of_Vehicles_6', 'Number_of_Vehicles_7', 'Number_of_Vehicles_8', 'Number_of_Vehicles_9', 'Number_of_Vehicles_10', 'Number_of_Vehicles_11', 'Number_of_Vehicles_12', 'Number_of_Vehicles_13', 'Number_of_Vehicles_14', 'Number_of_Vehicles_15', 'Number_of_Vehicles_16', 'Number_of_Vehicles_100', 'Number_of_Casualties_1', 'Number_of_Casualties_2', 'Number_of_Casualties_3', 'Number_of_Casualties_4', 'Number_of_Casualties_5', 'Number_of_Casualties_6', 'Number_of_Casualties_7', 'Number_of_Casualties_8', 'Number_of_Casualties_9', 'Number_of_Casualties_10', 'Number_of_Casualties_11', 'Number_of_Casualties_12', 'Number_of_Casualties_13', 'Number_of_Casualties_14', 'Number_of_Casualties_15', 'Number_of_Casualties_1000', 'Number_of_Casualties_2000', 'Number_of_Casualties_3000', 'Number_of_Casualties_4000', 'Speed_limit_0.0', 'Speed_limit_10.0', 'Speed_limit_20.0', 'Speed_limit_30.0', 'Speed_limit_40.0', 'Speed_limit_50.0', 'Speed_limit_60.0', 'Speed_limit_70.0', 'Light_Conditions_-1', 'Light_Conditions_1', 'Light_Conditions_4', 'Light_Conditions_5', 'Light_Conditions_6', 'Light_Conditions_7', 'Weather_Conditions_-1', 'Weather_Conditions_1', 'Weather_Conditions_2', 'Weather_Conditions_3', 'Weather_Conditions_4', 'Weather_Conditions_5', 'Weather_Conditions_6', 'Weather_Conditions_7', 'Weather_Conditions_8', 'Weather_Conditions_9', 'Road_Type_-1', 'Road_Type_1', 'Road_Type_2', 'Road_Type_3', 'Road_Type_6', 'Road_Type_7', 'Road_Type_9', 'Police_Force_1', 'Police_Force_3', 'Police_Force_4', 'Police_Force_5', 'Police_Force_6', 'Police_Force_7', 'Police_Force_10', 'Police_Force_11', 'Police_Force_12', 'Police_Force_13', 'Police_Force_14', 'Police_Force_16', 'Police_Force_17', 'Police_Force_20', 'Police_Force_21', 'Police_Force_22', 'Police_Force_23', 'Police_Force_30', 'Police_Force_31', 'Police_Force_32', 'Police_Force_33', 'Police_Force_34', 'Police_Force_35', 'Police_Force_36', 'Police_Force_37', 'Police_Force_40', 'Police_Force_41', 'Police_Force_42', 'Police_Force_43', 'Police_Force_44', 'Police_Force_45', 'Police_Force_46', 'Police_Force_47', 'Police_Force_48', 'Police_Force_50', 'Police_Force_52', 'Police_Force_53', 'Police_Force_54', 'Police_Force_55', 'Police_Force_60', 'Police_Force_61', 'Police_Force_62', 'Police_Force_63', 'Police_Force_91', 'Police_Force_92', 'Police_Force_93', 'Police_Force_94', 'Police_Force_95', 'Police_Force_96', 'Police_Force_97', 'Police_Force_98', 'Local_Authority_(District)_1', 'Local_Authority_(District)_2', 'Local_Authority_(District)_3', 'Local_Authority_(District)_4', 'Local_Authority_(District)_5', 'Local_Authority_(District)_6', 'Local_Authority_(District)_7', 'Local_Authority_(District)_8', 'Local_Authority_(District)_9', 'Local_Authority_(District)_10', 'Local_Authority_(District)_11', 'Local_Authority_(District)_12', 'Local_Authority_(District)_13', 'Local_Authority_(District)_14', 'Local_Authority_(District)_15', 'Local_Authority_(District)_16', 'Local_Authority_(District)_17', 'Local_Authority_(District)_18', 'Local_Authority_(District)_19', 'Local_Authority_(District)_20', 'Local_Authority_(District)_21', 'Local_Authority_(District)_22', 'Local_Authority_(District)_23', 'Local_Authority_(District)_24', 'Local_Authority_(District)_25', 'Local_Authority_(District)_26', 'Local_Authority_(District)_27', 'Local_Authority_(District)_28', 'Local_Authority_(District)_29', 'Local_Authority_(District)_30', 'Local_Authority_(District)_31', 'Local_Authority_(District)_32', 'Local_Authority_(District)_33', 'Local_Authority_(District)_38', 'Local_Authority_(District)_40', 'Local_Authority_(District)_57', 'Local_Authority_(District)_60', 'Local_Authority_(District)_61', 'Local_Authority_(District)_62', 'Local_Authority_(District)_63', 'Local_Authority_(District)_64', 'Local_Authority_(District)_65', 'Local_Authority_(District)_70', 'Local_Authority_(District)_71', 'Local_Authority_(District)_72', 'Local_Authority_(District)_73', 'Local_Authority_(District)_74', 'Local_Authority_(District)_75', 'Local_Authority_(District)_76', 'Local_Authority_(District)_77', 'Local_Authority_(District)_79', 'Local_Authority_(District)_80', 'Local_Authority_(District)_82', 'Local_Authority_(District)_83', 'Local_Authority_(District)_84', 'Local_Authority_(District)_85', 'Local_Authority_(District)_90', 'Local_Authority_(District)_91', 'Local_Authority_(District)_92', 'Local_Authority_(District)_93', 'Local_Authority_(District)_95', 'Local_Authority_(District)_100', 'Local_Authority_(District)_101', 'Local_Authority_(District)_102', 'Local_Authority_(District)_104', 'Local_Authority_(District)_106', 'Local_Authority_(District)_107', 'Local_Authority_(District)_109', 'Local_Authority_(District)_110', 'Local_Authority_(District)_112', 'Local_Authority_(District)_114', 'Local_Authority_(District)_124', 'Local_Authority_(District)_128', 'Local_Authority_(District)_129', 'Local_Authority_(District)_130', 'Local_Authority_(District)_139', 'Local_Authority_(District)_146', 'Local_Authority_(District)_147', 'Local_Authority_(District)_148', 'Local_Authority_(District)_149', 'Local_Authority_(District)_150', 'Local_Authority_(District)_161', 'Local_Authority_(District)_169', 'Local_Authority_(District)_180', 'Local_Authority_(District)_181', 'Local_Authority_(District)_182', 'Local_Authority_(District)_184', 'Local_Authority_(District)_185', 'Local_Authority_(District)_186', 'Local_Authority_(District)_187', 'Local_Authority_(District)_189', 'Local_Authority_(District)_200', 'Local_Authority_(District)_202', 'Local_Authority_(District)_203', 'Local_Authority_(District)_204', 'Local_Authority_(District)_206', 'Local_Authority_(District)_210', 'Local_Authority_(District)_211', 'Local_Authority_(District)_213', 'Local_Authority_(District)_215', 'Local_Authority_(District)_228', 'Local_Authority_(District)_231', 'Local_Authority_(District)_232', 'Local_Authority_(District)_233', 'Local_Authority_(District)_240', 'Local_Authority_(District)_241', 'Local_Authority_(District)_243', 'Local_Authority_(District)_245', 'Local_Authority_(District)_250', 'Local_Authority_(District)_251', 'Local_Authority_(District)_252', 'Local_Authority_(District)_253', 'Local_Authority_(District)_254', 'Local_Authority_(District)_255', 'Local_Authority_(District)_256', 'Local_Authority_(District)_257', 'Local_Authority_(District)_258', 'Local_Authority_(District)_270', 'Local_Authority_(District)_273', 'Local_Authority_(District)_274', 'Local_Authority_(District)_276', 'Local_Authority_(District)_277', 'Local_Authority_(District)_278', 'Local_Authority_(District)_284', 'Local_Authority_(District)_285', 'Local_Authority_(District)_286', 'Local_Authority_(District)_290', 'Local_Authority_(District)_291', 'Local_Authority_(District)_292', 'Local_Authority_(District)_293', 'Local_Authority_(District)_294', 'Local_Authority_(District)_300', 'Local_Authority_(District)_302', 'Local_Authority_(District)_303', 'Local_Authority_(District)_305', 'Local_Authority_(District)_306', 'Local_Authority_(District)_307', 'Local_Authority_(District)_309', 'Local_Authority_(District)_320', 'Local_Authority_(District)_321', 'Local_Authority_(District)_322', 'Local_Authority_(District)_323', 'Local_Authority_(District)_324', 'Local_Authority_(District)_325', 'Local_Authority_(District)_327', 'Local_Authority_(District)_328', 'Local_Authority_(District)_329', 'Local_Authority_(District)_340', 'Local_Authority_(District)_341', 'Local_Authority_(District)_342', 'Local_Authority_(District)_343', 'Local_Authority_(District)_344', 'Local_Authority_(District)_345', 'Local_Authority_(District)_346', 'Local_Authority_(District)_347', 'Local_Authority_(District)_350', 'Local_Authority_(District)_351', 'Local_Authority_(District)_352', 'Local_Authority_(District)_353', 'Local_Authority_(District)_354', 'Local_Authority_(District)_355', 'Local_Authority_(District)_356', 'Local_Authority_(District)_360', 'Local_Authority_(District)_361', 'Local_Authority_(District)_362', 'Local_Authority_(District)_363', 'Local_Authority_(District)_364', 'Local_Authority_(District)_365', 'Local_Authority_(District)_366', 'Local_Authority_(District)_367', 'Local_Authority_(District)_368', 'Local_Authority_(District)_380', 'Local_Authority_(District)_381', 'Local_Authority_(District)_382', 'Local_Authority_(District)_383', 'Local_Authority_(District)_384', 'Local_Authority_(District)_385', 'Local_Authority_(District)_386', 'Local_Authority_(District)_390', 'Local_Authority_(District)_391', 'Local_Authority_(District)_392', 'Local_Authority_(District)_393', 'Local_Authority_(District)_394', 'Local_Authority_(District)_395', 'Local_Authority_(District)_400', 'Local_Authority_(District)_401', 'Local_Authority_(District)_402', 'Local_Authority_(District)_404', 'Local_Authority_(District)_405', 'Local_Authority_(District)_406', 'Local_Authority_(District)_407', 'Local_Authority_(District)_410', 'Local_Authority_(District)_411', 'Local_Authority_(District)_412', 'Local_Authority_(District)_413', 'Local_Authority_(District)_414', 'Local_Authority_(District)_415', 'Local_Authority_(District)_416', 'Local_Authority_(District)_420', 'Local_Authority_(District)_421', 'Local_Authority_(District)_424', 'Local_Authority_(District)_430', 'Local_Authority_(District)_431', 'Local_Authority_(District)_432', 'Local_Authority_(District)_433', 'Local_Authority_(District)_434', 'Local_Authority_(District)_435', 'Local_Authority_(District)_436', 'Local_Authority_(District)_437', 'Local_Authority_(District)_438', 'Local_Authority_(District)_450', 'Local_Authority_(District)_451', 'Local_Authority_(District)_452', 'Local_Authority_(District)_453', 'Local_Authority_(District)_454', 'Local_Authority_(District)_455', 'Local_Authority_(District)_456', 'Local_Authority_(District)_457', 'Local_Authority_(District)_458', 'Local_Authority_(District)_459', 'Local_Authority_(District)_460', 'Local_Authority_(District)_461', 'Local_Authority_(District)_462', 'Local_Authority_(District)_463', 'Local_Authority_(District)_470', 'Local_Authority_(District)_471', 'Local_Authority_(District)_472', 'Local_Authority_(District)_473', 'Local_Authority_(District)_474', 'Local_Authority_(District)_475', 'Local_Authority_(District)_476', 'Local_Authority_(District)_477', 'Local_Authority_(District)_478', 'Local_Authority_(District)_479', 'Local_Authority_(District)_480', 'Local_Authority_(District)_481', 'Local_Authority_(District)_482', 'Local_Authority_(District)_483', 'Local_Authority_(District)_484', 'Local_Authority_(District)_485', 'Local_Authority_(District)_490', 'Local_Authority_(District)_491', 'Local_Authority_(District)_492', 'Local_Authority_(District)_493', 'Local_Authority_(District)_494', 'Local_Authority_(District)_495', 'Local_Authority_(District)_496', 'Local_Authority_(District)_497', 'Local_Authority_(District)_498', 'Local_Authority_(District)_499', 'Local_Authority_(District)_500', 'Local_Authority_(District)_501', 'Local_Authority_(District)_502', 'Local_Authority_(District)_505', 'Local_Authority_(District)_510', 'Local_Authority_(District)_511', 'Local_Authority_(District)_512', 'Local_Authority_(District)_513', 'Local_Authority_(District)_514', 'Local_Authority_(District)_515', 'Local_Authority_(District)_516', 'Local_Authority_(District)_517', 'Local_Authority_(District)_518', 'Local_Authority_(District)_530', 'Local_Authority_(District)_531', 'Local_Authority_(District)_532', 'Local_Authority_(District)_533', 'Local_Authority_(District)_535', 'Local_Authority_(District)_536', 'Local_Authority_(District)_538', 'Local_Authority_(District)_539', 'Local_Authority_(District)_540', 'Local_Authority_(District)_541', 'Local_Authority_(District)_542', 'Local_Authority_(District)_543', 'Local_Authority_(District)_544', 'Local_Authority_(District)_551', 'Local_Authority_(District)_552', 'Local_Authority_(District)_554', 'Local_Authority_(District)_555', 'Local_Authority_(District)_556', 'Local_Authority_(District)_557', 'Local_Authority_(District)_558', 'Local_Authority_(District)_559', 'Local_Authority_(District)_560', 'Local_Authority_(District)_562', 'Local_Authority_(District)_563', 'Local_Authority_(District)_564', 'Local_Authority_(District)_565', 'Local_Authority_(District)_570', 'Local_Authority_(District)_580', 'Local_Authority_(District)_581', 'Local_Authority_(District)_582', 'Local_Authority_(District)_583', 'Local_Authority_(District)_584', 'Local_Authority_(District)_585', 'Local_Authority_(District)_586', 'Local_Authority_(District)_587', 'Local_Authority_(District)_588', 'Local_Authority_(District)_589', 'Local_Authority_(District)_596', 'Local_Authority_(District)_601', 'Local_Authority_(District)_605', 'Local_Authority_(District)_606', 'Local_Authority_(District)_607', 'Local_Authority_(District)_608', 'Local_Authority_(District)_609', 'Local_Authority_(District)_610', 'Local_Authority_(District)_611', 'Local_Authority_(District)_612', 'Local_Authority_(District)_620', 'Local_Authority_(District)_621', 'Local_Authority_(District)_622', 'Local_Authority_(District)_623', 'Local_Authority_(District)_624', 'Local_Authority_(District)_625', 'Local_Authority_(District)_633', 'Local_Authority_(District)_635', 'Local_Authority_(District)_640', 'Local_Authority_(District)_641', 'Local_Authority_(District)_642', 'Local_Authority_(District)_643', 'Local_Authority_(District)_644', 'Local_Authority_(District)_645', 'Local_Authority_(District)_646', 'Local_Authority_(District)_647', 'Local_Authority_(District)_720', 'Local_Authority_(District)_721', 'Local_Authority_(District)_722', 'Local_Authority_(District)_723', 'Local_Authority_(District)_724', 'Local_Authority_(District)_725', 'Local_Authority_(District)_730', 'Local_Authority_(District)_731', 'Local_Authority_(District)_732', 'Local_Authority_(District)_733', 'Local_Authority_(District)_734', 'Local_Authority_(District)_740', 'Local_Authority_(District)_741', 'Local_Authority_(District)_742', 'Local_Authority_(District)_743', 'Local_Authority_(District)_744', 'Local_Authority_(District)_745', 'Local_Authority_(District)_746', 'Local_Authority_(District)_750', 'Local_Authority_(District)_751', 'Local_Authority_(District)_752', 'Local_Authority_(District)_753', 'Local_Authority_(District)_910', 'Local_Authority_(District)_911', 'Local_Authority_(District)_912', 'Local_Authority_(District)_913', 'Local_Authority_(District)_914', 'Local_Authority_(District)_915', 'Local_Authority_(District)_916', 'Local_Authority_(District)_917', 'Local_Authority_(District)_918', 'Local_Authority_(District)_919', 'Local_Authority_(District)_920', 'Local_Authority_(District)_921', 'Local_Authority_(District)_922', 'Local_Authority_(District)_923', 'Local_Authority_(District)_924', 'Local_Authority_(District)_925', 'Local_Authority_(District)_926', 'Local_Authority_(District)_927', 'Local_Authority_(District)_928', 'Local_Authority_(District)_929', 'Local_Authority_(District)_930', 'Local_Authority_(District)_931', 'Local_Authority_(District)_932', 'Local_Authority_(District)_933', 'Local_Authority_(District)_934', 'Local_Authority_(District)_935', 'Local_Authority_(District)_936', 'Local_Authority_(District)_937', 'Local_Authority_(District)_938', 'Local_Authority_(District)_939', 'Local_Authority_(District)_940', 'Local_Authority_(District)_941', 'Local_Authority_(Highway)_E06000001', 'Local_Authority_(Highway)_E06000002', 'Local_Authority_(Highway)_E06000003', 'Local_Authority_(Highway)_E06000004', 'Local_Authority_(Highway)_E06000005', 'Local_Authority_(Highway)_E06000006', 'Local_Authority_(Highway)_E06000007', 'Local_Authority_(Highway)_E06000008', 'Local_Authority_(Highway)_E06000009', 'Local_Authority_(Highway)_E06000010', 'Local_Authority_(Highway)_E06000011', 'Local_Authority_(Highway)_E06000012', 'Local_Authority_(Highway)_E06000013', 'Local_Authority_(Highway)_E06000014', 'Local_Authority_(Highway)_E06000015', 'Local_Authority_(Highway)_E06000016', 'Local_Authority_(Highway)_E06000017', 'Local_Authority_(Highway)_E06000018', 'Local_Authority_(Highway)_E06000019', 'Local_Authority_(Highway)_E06000020', 'Local_Authority_(Highway)_E06000021', 'Local_Authority_(Highway)_E06000022', 'Local_Authority_(Highway)_E06000023', 'Local_Authority_(Highway)_E06000024', 'Local_Authority_(Highway)_E06000025', 'Local_Authority_(Highway)_E06000026', 'Local_Authority_(Highway)_E06000027', 'Local_Authority_(Highway)_E06000028', 'Local_Authority_(Highway)_E06000029', 'Local_Authority_(Highway)_E06000030', 'Local_Authority_(Highway)_E06000031', 'Local_Authority_(Highway)_E06000032', 'Local_Authority_(Highway)_E06000033', 'Local_Authority_(Highway)_E06000034', 'Local_Authority_(Highway)_E06000035', 'Local_Authority_(Highway)_E06000036', 'Local_Authority_(Highway)_E06000037', 'Local_Authority_(Highway)_E06000038', 'Local_Authority_(Highway)_E06000039', 'Local_Authority_(Highway)_E06000040', 'Local_Authority_(Highway)_E06000041', 'Local_Authority_(Highway)_E06000042', 'Local_Authority_(Highway)_E06000043', 'Local_Authority_(Highway)_E06000044', 'Local_Authority_(Highway)_E06000045', 'Local_Authority_(Highway)_E06000046', 'Local_Authority_(Highway)_E06000047', 'Local_Authority_(Highway)_E06000048', 'Local_Authority_(Highway)_E06000049', 'Local_Authority_(Highway)_E06000050', 'Local_Authority_(Highway)_E06000051', 'Local_Authority_(Highway)_E06000052', 'Local_Authority_(Highway)_E06000053', 'Local_Authority_(Highway)_E06000054', 'Local_Authority_(Highway)_E06000055', 'Local_Authority_(Highway)_E06000056', 'Local_Authority_(Highway)_E08000001', 'Local_Authority_(Highway)_E08000002', 'Local_Authority_(Highway)_E08000003', 'Local_Authority_(Highway)_E08000004', 'Local_Authority_(Highway)_E08000005', 'Local_Authority_(Highway)_E08000006', 'Local_Authority_(Highway)_E08000007', 'Local_Authority_(Highway)_E08000008', 'Local_Authority_(Highway)_E08000009', 'Local_Authority_(Highway)_E08000010', 'Local_Authority_(Highway)_E08000011', 'Local_Authority_(Highway)_E08000012', 'Local_Authority_(Highway)_E08000013', 'Local_Authority_(Highway)_E08000014', 'Local_Authority_(Highway)_E08000015', 'Local_Authority_(Highway)_E08000016', 'Local_Authority_(Highway)_E08000017', 'Local_Authority_(Highway)_E08000018', 'Local_Authority_(Highway)_E08000019', 'Local_Authority_(Highway)_E08000020', 'Local_Authority_(Highway)_E08000021', 'Local_Authority_(Highway)_E08000022', 'Local_Authority_(Highway)_E08000023', 'Local_Authority_(Highway)_E08000024', 'Local_Authority_(Highway)_E08000025', 'Local_Authority_(Highway)_E08000026', 'Local_Authority_(Highway)_E08000027', 'Local_Authority_(Highway)_E08000028', 'Local_Authority_(Highway)_E08000029', 'Local_Authority_(Highway)_E08000030', 'Local_Authority_(Highway)_E08000031', 'Local_Authority_(Highway)_E08000032', 'Local_Authority_(Highway)_E08000033', 'Local_Authority_(Highway)_E08000034', 'Local_Authority_(Highway)_E08000035', 'Local_Authority_(Highway)_E08000036', 'Local_Authority_(Highway)_E09000001', 'Local_Authority_(Highway)_E09000002', 'Local_Authority_(Highway)_E09000003', 'Local_Authority_(Highway)_E09000004', 'Local_Authority_(Highway)_E09000005', 'Local_Authority_(Highway)_E09000006', 'Local_Authority_(Highway)_E09000007', 'Local_Authority_(Highway)_E09000008', 'Local_Authority_(Highway)_E09000009', 'Local_Authority_(Highway)_E09000010', 'Local_Authority_(Highway)_E09000011', 'Local_Authority_(Highway)_E09000012', 'Local_Authority_(Highway)_E09000013', 'Local_Authority_(Highway)_E09000014', 'Local_Authority_(Highway)_E09000015', 'Local_Authority_(Highway)_E09000016', 'Local_Authority_(Highway)_E09000017', 'Local_Authority_(Highway)_E09000018', 'Local_Authority_(Highway)_E09000019', 'Local_Authority_(Highway)_E09000020', 'Local_Authority_(Highway)_E09000021', 'Local_Authority_(Highway)_E09000022', 'Local_Authority_(Highway)_E09000023', 'Local_Authority_(Highway)_E09000024', 'Local_Authority_(Highway)_E09000025', 'Local_Authority_(Highway)_E09000026', 'Local_Authority_(Highway)_E09000027', 'Local_Authority_(Highway)_E09000028', 'Local_Authority_(Highway)_E09000029', 'Local_Authority_(Highway)_E09000030', 'Local_Authority_(Highway)_E09000031', 'Local_Authority_(Highway)_E09000032', 'Local_Authority_(Highway)_E09000033', 'Local_Authority_(Highway)_E10000002', 'Local_Authority_(Highway)_E10000003', 'Local_Authority_(Highway)_E10000006', 'Local_Authority_(Highway)_E10000007', 'Local_Authority_(Highway)_E10000008', 'Local_Authority_(Highway)_E10000009', 'Local_Authority_(Highway)_E10000011', 'Local_Authority_(Highway)_E10000012', 'Local_Authority_(Highway)_E10000013', 'Local_Authority_(Highway)_E10000014', 'Local_Authority_(Highway)_E10000015', 'Local_Authority_(Highway)_E10000016', 'Local_Authority_(Highway)_E10000017', 'Local_Authority_(Highway)_E10000018', 'Local_Authority_(Highway)_E10000019', 'Local_Authority_(Highway)_E10000020', 'Local_Authority_(Highway)_E10000021', 'Local_Authority_(Highway)_E10000023', 'Local_Authority_(Highway)_E10000024', 'Local_Authority_(Highway)_E10000025', 'Local_Authority_(Highway)_E10000027', 'Local_Authority_(Highway)_E10000028', 'Local_Authority_(Highway)_E10000029', 'Local_Authority_(Highway)_E10000030', 'Local_Authority_(Highway)_E10000031', 'Local_Authority_(Highway)_E10000032', 'Local_Authority_(Highway)_E10000034', 'Local_Authority_(Highway)_EHEATHROW', 'Local_Authority_(Highway)_S12000005', 'Local_Authority_(Highway)_S12000006', 'Local_Authority_(Highway)_S12000008', 'Local_Authority_(Highway)_S12000009', 'Local_Authority_(Highway)_S12000010', 'Local_Authority_(Highway)_S12000011', 'Local_Authority_(Highway)_S12000013', 'Local_Authority_(Highway)_S12000014', 'Local_Authority_(Highway)_S12000015', 'Local_Authority_(Highway)_S12000017', 'Local_Authority_(Highway)_S12000018', 'Local_Authority_(Highway)_S12000019', 'Local_Authority_(Highway)_S12000020', 'Local_Authority_(Highway)_S12000021', 'Local_Authority_(Highway)_S12000023', 'Local_Authority_(Highway)_S12000024', 'Local_Authority_(Highway)_S12000026', 'Local_Authority_(Highway)_S12000027', 'Local_Authority_(Highway)_S12000028', 'Local_Authority_(Highway)_S12000029', 'Local_Authority_(Highway)_S12000030', 'Local_Authority_(Highway)_S12000033', 'Local_Authority_(Highway)_S12000034', 'Local_Authority_(Highway)_S12000035', 'Local_Authority_(Highway)_S12000036', 'Local_Authority_(Highway)_S12000038', 'Local_Authority_(Highway)_S12000039', 'Local_Authority_(Highway)_S12000040', 'Local_Authority_(Highway)_S12000041', 'Local_Authority_(Highway)_S12000042', 'Local_Authority_(Highway)_S12000043', 'Local_Authority_(Highway)_S12000044', 'Local_Authority_(Highway)_W06000001', 'Local_Authority_(Highway)_W06000002', 'Local_Authority_(Highway)_W06000003', 'Local_Authority_(Highway)_W06000004', 'Local_Authority_(Highway)_W06000005', 'Local_Authority_(Highway)_W06000006', 'Local_Authority_(Highway)_W06000008', 'Local_Authority_(Highway)_W06000009', 'Local_Authority_(Highway)_W06000010', 'Local_Authority_(Highway)_W06000011', 'Local_Authority_(Highway)_W06000012', 'Local_Authority_(Highway)_W06000013', 'Local_Authority_(Highway)_W06000014', 'Local_Authority_(Highway)_W06000015', 'Local_Authority_(Highway)_W06000016', 'Local_Authority_(Highway)_W06000018', 'Local_Authority_(Highway)_W06000019', 'Local_Authority_(Highway)_W06000020', 'Local_Authority_(Highway)_W06000021', 'Local_Authority_(Highway)_W06000022', 'Local_Authority_(Highway)_W06000023', 'Local_Authority_(Highway)_W06000024', '1st_Road_Class_1', '1st_Road_Class_2', '1st_Road_Class_3', '1st_Road_Class_4', '1st_Road_Class_5', '1st_Road_Class_6', 'Junction_Detail_-1', 'Junction_Detail_0', 'Junction_Detail_1', 'Junction_Detail_2', 'Junction_Detail_3', 'Junction_Detail_5', 'Junction_Detail_6', 'Junction_Detail_7', 'Junction_Detail_8', 'Junction_Detail_9', 'Junction_Control_-1', 'Junction_Control_0', 'Junction_Control_1', 'Junction_Control_2', 'Junction_Control_3', 'Junction_Control_4', '2nd_Road_Class_-1', '2nd_Road_Class_1', '2nd_Road_Class_2', '2nd_Road_Class_3', '2nd_Road_Class_4', '2nd_Road_Class_5', '2nd_Road_Class_6', 'Pedestrian_Crossing-Human_Control_-1', 'Pedestrian_Crossing-Human_Control_0', 'Pedestrian_Crossing-Human_Control_1', 'Pedestrian_Crossing-Human_Control_2', 'Pedestrian_Crossing-Physical_Facilities_-1', 'Pedestrian_Crossing-Physical_Facilities_0', 'Pedestrian_Crossing-Physical_Facilities_1', 'Pedestrian_Crossing-Physical_Facilities_4', 'Pedestrian_Crossing-Physical_Facilities_5', 'Pedestrian_Crossing-Physical_Facilities_7', 'Pedestrian_Crossing-Physical_Facilities_8', 'Road_Surface_Conditions_-1', 'Road_Surface_Conditions_1', 'Road_Surface_Conditions_2', 'Road_Surface_Conditions_3', 'Road_Surface_Conditions_4', 'Road_Surface_Conditions_5', 'Special_Conditions_at_Site_-1', 'Special_Conditions_at_Site_0', 'Special_Conditions_at_Site_1', 'Special_Conditions_at_Site_2', 'Special_Conditions_at_Site_3', 'Special_Conditions_at_Site_4', 'Special_Conditions_at_Site_5', 'Special_Conditions_at_Site_6', 'Special_Conditions_at_Site_7', 'Carriageway_Hazards_-1', 'Carriageway_Hazards_0', 'Carriageway_Hazards_1', 'Carriageway_Hazards_2', 'Carriageway_Hazards_3', 'Carriageway_Hazards_6', 'Carriageway_Hazards_7', 'Did_Police_Officer_Attend_Scene_of_Accident_-1', 'Did_Police_Officer_Attend_Scene_of_Accident_1', 'Did_Police_Officer_Attend_Scene_of_Accident_2', 'Did_Police_Officer_Attend_Scene_of_Accident_3', 'Urban_or_Rural_Area_1', 'Urban_or_Rural_Area_2', 'Urban_or_Rural_Area_3']\n"
     ]
    },
    {
     "data": {
      "text/html": [
       "<div>\n",
       "<style scoped>\n",
       "    .dataframe tbody tr th:only-of-type {\n",
       "        vertical-align: middle;\n",
       "    }\n",
       "\n",
       "    .dataframe tbody tr th {\n",
       "        vertical-align: top;\n",
       "    }\n",
       "\n",
       "    .dataframe thead th {\n",
       "        text-align: right;\n",
       "    }\n",
       "</style>\n",
       "<table border=\"1\" class=\"dataframe\">\n",
       "  <thead>\n",
       "    <tr style=\"text-align: right;\">\n",
       "      <th></th>\n",
       "      <th>Accident_Index</th>\n",
       "      <th>Location_Easting_OSGR</th>\n",
       "      <th>Location_Northing_OSGR</th>\n",
       "      <th>Longitude</th>\n",
       "      <th>Latitude</th>\n",
       "      <th>x</th>\n",
       "      <th>y</th>\n",
       "      <th>z</th>\n",
       "      <th>Accident_Severity</th>\n",
       "      <th>Date</th>\n",
       "      <th>...</th>\n",
       "      <th>Carriageway_Hazards_3</th>\n",
       "      <th>Carriageway_Hazards_6</th>\n",
       "      <th>Carriageway_Hazards_7</th>\n",
       "      <th>Did_Police_Officer_Attend_Scene_of_Accident_-1</th>\n",
       "      <th>Did_Police_Officer_Attend_Scene_of_Accident_1</th>\n",
       "      <th>Did_Police_Officer_Attend_Scene_of_Accident_2</th>\n",
       "      <th>Did_Police_Officer_Attend_Scene_of_Accident_3</th>\n",
       "      <th>Urban_or_Rural_Area_1</th>\n",
       "      <th>Urban_or_Rural_Area_2</th>\n",
       "      <th>Urban_or_Rural_Area_3</th>\n",
       "    </tr>\n",
       "  </thead>\n",
       "  <tbody>\n",
       "    <tr>\n",
       "      <th>0</th>\n",
       "      <td>201501BS70001</td>\n",
       "      <td>525130.0</td>\n",
       "      <td>180050.0</td>\n",
       "      <td>-0.198465</td>\n",
       "      <td>51.505538</td>\n",
       "      <td>0.622435</td>\n",
       "      <td>-0.002156</td>\n",
       "      <td>0.782668</td>\n",
       "      <td>3</td>\n",
       "      <td>2015-01-12</td>\n",
       "      <td>...</td>\n",
       "      <td>0</td>\n",
       "      <td>0</td>\n",
       "      <td>0</td>\n",
       "      <td>0</td>\n",
       "      <td>1</td>\n",
       "      <td>0</td>\n",
       "      <td>0</td>\n",
       "      <td>1</td>\n",
       "      <td>0</td>\n",
       "      <td>0</td>\n",
       "    </tr>\n",
       "    <tr>\n",
       "      <th>1</th>\n",
       "      <td>201501BS70002</td>\n",
       "      <td>526530.0</td>\n",
       "      <td>178560.0</td>\n",
       "      <td>-0.178838</td>\n",
       "      <td>51.491836</td>\n",
       "      <td>0.622623</td>\n",
       "      <td>-0.001943</td>\n",
       "      <td>0.782519</td>\n",
       "      <td>3</td>\n",
       "      <td>2015-01-12</td>\n",
       "      <td>...</td>\n",
       "      <td>0</td>\n",
       "      <td>0</td>\n",
       "      <td>0</td>\n",
       "      <td>0</td>\n",
       "      <td>1</td>\n",
       "      <td>0</td>\n",
       "      <td>0</td>\n",
       "      <td>1</td>\n",
       "      <td>0</td>\n",
       "      <td>0</td>\n",
       "    </tr>\n",
       "    <tr>\n",
       "      <th>2</th>\n",
       "      <td>201501BS70004</td>\n",
       "      <td>524610.0</td>\n",
       "      <td>181080.0</td>\n",
       "      <td>-0.205590</td>\n",
       "      <td>51.514910</td>\n",
       "      <td>0.622307</td>\n",
       "      <td>-0.002233</td>\n",
       "      <td>0.782770</td>\n",
       "      <td>3</td>\n",
       "      <td>2015-01-12</td>\n",
       "      <td>...</td>\n",
       "      <td>0</td>\n",
       "      <td>0</td>\n",
       "      <td>0</td>\n",
       "      <td>0</td>\n",
       "      <td>1</td>\n",
       "      <td>0</td>\n",
       "      <td>0</td>\n",
       "      <td>1</td>\n",
       "      <td>0</td>\n",
       "      <td>0</td>\n",
       "    </tr>\n",
       "    <tr>\n",
       "      <th>3</th>\n",
       "      <td>201501BS70005</td>\n",
       "      <td>524420.0</td>\n",
       "      <td>181080.0</td>\n",
       "      <td>-0.208327</td>\n",
       "      <td>51.514952</td>\n",
       "      <td>0.622306</td>\n",
       "      <td>-0.002263</td>\n",
       "      <td>0.782771</td>\n",
       "      <td>3</td>\n",
       "      <td>2015-01-13</td>\n",
       "      <td>...</td>\n",
       "      <td>0</td>\n",
       "      <td>0</td>\n",
       "      <td>0</td>\n",
       "      <td>0</td>\n",
       "      <td>0</td>\n",
       "      <td>1</td>\n",
       "      <td>0</td>\n",
       "      <td>1</td>\n",
       "      <td>0</td>\n",
       "      <td>0</td>\n",
       "    </tr>\n",
       "    <tr>\n",
       "      <th>4</th>\n",
       "      <td>201501BS70008</td>\n",
       "      <td>524630.0</td>\n",
       "      <td>179040.0</td>\n",
       "      <td>-0.206022</td>\n",
       "      <td>51.496572</td>\n",
       "      <td>0.622557</td>\n",
       "      <td>-0.002239</td>\n",
       "      <td>0.782571</td>\n",
       "      <td>2</td>\n",
       "      <td>2015-01-09</td>\n",
       "      <td>...</td>\n",
       "      <td>0</td>\n",
       "      <td>0</td>\n",
       "      <td>0</td>\n",
       "      <td>0</td>\n",
       "      <td>0</td>\n",
       "      <td>1</td>\n",
       "      <td>0</td>\n",
       "      <td>1</td>\n",
       "      <td>0</td>\n",
       "      <td>0</td>\n",
       "    </tr>\n",
       "  </tbody>\n",
       "</table>\n",
       "<p>5 rows × 804 columns</p>\n",
       "</div>"
      ],
      "text/plain": [
       "  Accident_Index  Location_Easting_OSGR  Location_Northing_OSGR  Longitude  \\\n",
       "0  201501BS70001               525130.0                180050.0  -0.198465   \n",
       "1  201501BS70002               526530.0                178560.0  -0.178838   \n",
       "2  201501BS70004               524610.0                181080.0  -0.205590   \n",
       "3  201501BS70005               524420.0                181080.0  -0.208327   \n",
       "4  201501BS70008               524630.0                179040.0  -0.206022   \n",
       "\n",
       "    Latitude         x         y         z  Accident_Severity       Date  \\\n",
       "0  51.505538  0.622435 -0.002156  0.782668                  3 2015-01-12   \n",
       "1  51.491836  0.622623 -0.001943  0.782519                  3 2015-01-12   \n",
       "2  51.514910  0.622307 -0.002233  0.782770                  3 2015-01-12   \n",
       "3  51.514952  0.622306 -0.002263  0.782771                  3 2015-01-13   \n",
       "4  51.496572  0.622557 -0.002239  0.782571                  2 2015-01-09   \n",
       "\n",
       "           ...           Carriageway_Hazards_3  Carriageway_Hazards_6  \\\n",
       "0          ...                               0                      0   \n",
       "1          ...                               0                      0   \n",
       "2          ...                               0                      0   \n",
       "3          ...                               0                      0   \n",
       "4          ...                               0                      0   \n",
       "\n",
       "   Carriageway_Hazards_7 Did_Police_Officer_Attend_Scene_of_Accident_-1  \\\n",
       "0                      0                                              0   \n",
       "1                      0                                              0   \n",
       "2                      0                                              0   \n",
       "3                      0                                              0   \n",
       "4                      0                                              0   \n",
       "\n",
       "   Did_Police_Officer_Attend_Scene_of_Accident_1  \\\n",
       "0                                              1   \n",
       "1                                              1   \n",
       "2                                              1   \n",
       "3                                              0   \n",
       "4                                              0   \n",
       "\n",
       "   Did_Police_Officer_Attend_Scene_of_Accident_2  \\\n",
       "0                                              0   \n",
       "1                                              0   \n",
       "2                                              0   \n",
       "3                                              1   \n",
       "4                                              1   \n",
       "\n",
       "   Did_Police_Officer_Attend_Scene_of_Accident_3  Urban_or_Rural_Area_1  \\\n",
       "0                                              0                      1   \n",
       "1                                              0                      1   \n",
       "2                                              0                      1   \n",
       "3                                              0                      1   \n",
       "4                                              0                      1   \n",
       "\n",
       "   Urban_or_Rural_Area_2  Urban_or_Rural_Area_3  \n",
       "0                      0                      0  \n",
       "1                      0                      0  \n",
       "2                      0                      0  \n",
       "3                      0                      0  \n",
       "4                      0                      0  \n",
       "\n",
       "[5 rows x 804 columns]"
      ]
     },
     "execution_count": 14,
     "metadata": {},
     "output_type": "execute_result"
    }
   ],
   "source": [
    "a = np.array(Merged_Accidents['Number_of_Vehicles'].values.tolist())\n",
    "Merged_Accidents['Number_of_Vehicles'] = np.where(a > 16, 100, a).tolist()\n",
    "a = np.array(Merged_Accidents['Number_of_Casualties'].values.tolist())\n",
    "Merged_Accidents['Number_of_Casualties'] = np.where(a > 45 , 4000, np.where(a >= 31, 3000, np.where( a >= 21, 2000, np.where(a > 15, 1000, a)) )).tolist()\n",
    "\n",
    "#One Hot Encoding Day of Week\n",
    "# use pd.concat to join the new columns with your original dataframe\n",
    "Merged_Accidents = pd.concat([Merged_Accidents,pd.get_dummies(Merged_Accidents['Day_of_Week'], prefix='DOW')],axis=1)\n",
    "# now drop the original 'Day_of_Week' column (you don't need it anymore)\n",
    "Merged_Accidents.drop(['Day_of_Week'],axis=1, inplace=True)\n",
    "\n",
    "#One Hot Encoding Number_of_Vehicles\n",
    "# use pd.concat to join the new columns with your original dataframe\n",
    "Merged_Accidents = pd.concat([Merged_Accidents,pd.get_dummies(Merged_Accidents['Number_of_Vehicles'], prefix='Number_of_Vehicles')],axis=1)\n",
    "# now drop the original 'Number_of_Vehicles' column (you don't need it anymore)\n",
    "Merged_Accidents.drop(['Number_of_Vehicles'],axis=1, inplace=True)\n",
    "\n",
    "#One Hot Encoding Number_of_Casualties\n",
    "# use pd.concat to join the new columns with your original dataframe\n",
    "Merged_Accidents = pd.concat([Merged_Accidents,pd.get_dummies(Merged_Accidents['Number_of_Casualties'], prefix='Number_of_Casualties')],axis=1)\n",
    "# now drop the original 'Number_of_Casualties' column (you don't need it anymore)\n",
    "Merged_Accidents.drop(['Number_of_Casualties'],axis=1, inplace=True)\n",
    "\n",
    "#One Hot Encoding Speed_Limit\n",
    "# use pd.concat to join the new columns with your original dataframe\n",
    "Merged_Accidents = pd.concat([Merged_Accidents,pd.get_dummies(Merged_Accidents['Speed_limit'], prefix='Speed_limit')],axis=1)\n",
    "# now drop the original 'Speed_Limit' column (you don't need it anymore)\n",
    "Merged_Accidents.drop(['Speed_limit'],axis=1, inplace=True)\n",
    "\n",
    "#One Hot Encoding Light_Conditions\n",
    "# use pd.concat to join the new columns with your original dataframe\n",
    "Merged_Accidents = pd.concat([Merged_Accidents,pd.get_dummies(Merged_Accidents['Light_Conditions'], prefix='Light_Conditions')],axis=1)\n",
    "# now drop the original 'Speed_Limit' column (you don't need it anymore)\n",
    "Merged_Accidents.drop(['Light_Conditions'],axis=1, inplace=True)\n",
    "\n",
    "#One Hot Encoding Weather_Conditions\n",
    "# use pd.concat to join the new columns with your original dataframe\n",
    "Merged_Accidents = pd.concat([Merged_Accidents,pd.get_dummies(Merged_Accidents['Weather_Conditions'], prefix='Weather_Conditions')],axis=1)\n",
    "# now drop the original 'Speed_Limit' column (you don't need it anymore)\n",
    "Merged_Accidents.drop(['Weather_Conditions'],axis=1, inplace=True)\n",
    "\n",
    "#One Hot Encoding Road_Type\n",
    "# use pd.concat to join the new columns with your original dataframe\n",
    "Merged_Accidents = pd.concat([Merged_Accidents,pd.get_dummies(Merged_Accidents['Road_Type'], prefix='Road_Type')],axis=1)\n",
    "# now drop the original 'Speed_Limit' column (you don't need it anymore)\n",
    "Merged_Accidents.drop(['Road_Type'],axis=1, inplace=True)\n",
    "\n",
    "#One Hot Encoding Police_Force\n",
    "# use pd.concat to join the new columns with your original dataframe\n",
    "Merged_Accidents = pd.concat([Merged_Accidents,pd.get_dummies(Merged_Accidents['Police_Force'], prefix='Police_Force')],axis=1)\n",
    "# now drop the original 'Speed_Limit' column (you don't need it anymore)\n",
    "Merged_Accidents.drop(['Police_Force'],axis=1, inplace=True)\n",
    "\n",
    "\n",
    "#One Hot Encoding Local_Authority_(District)\n",
    "# use pd.concat to join the new columns with your original dataframe\n",
    "Merged_Accidents = pd.concat([Merged_Accidents,pd.get_dummies(Merged_Accidents['Local_Authority_(District)'], prefix='Local_Authority_(District)')],axis=1)\n",
    "# now drop the original 'Local_Authority_(District)' column (you don't need it anymore)\n",
    "Merged_Accidents.drop(['Local_Authority_(District)'],axis=1, inplace=True)\n",
    "\n",
    "\n",
    "#One Hot Encoding Local_Authority_(Highway)\n",
    "# use pd.concat to join the new columns with your original dataframe\n",
    "Merged_Accidents = pd.concat([Merged_Accidents,pd.get_dummies(Merged_Accidents['Local_Authority_(Highway)'], prefix='Local_Authority_(Highway)')],axis=1)\n",
    "# now drop the original 'Local_Authority_(Highway)' column (you don't need it anymore)\n",
    "Merged_Accidents.drop(['Local_Authority_(Highway)'],axis=1, inplace=True)\n",
    "\n",
    "#One Hot Encoding 1st_Road_Class\n",
    "# use pd.concat to join the new columns with your original dataframe\n",
    "Merged_Accidents = pd.concat([Merged_Accidents,pd.get_dummies(Merged_Accidents['1st_Road_Class'], prefix='1st_Road_Class')],axis=1)\n",
    "# now drop the original '1st_Road_Class' column (you don't need it anymore)\n",
    "Merged_Accidents.drop(['1st_Road_Class'],axis=1, inplace=True)\n",
    "\n",
    "#One Hot Encoding Junction_Detail\n",
    "# use pd.concat to join the new columns with your original dataframe\n",
    "Merged_Accidents = pd.concat([Merged_Accidents,pd.get_dummies(Merged_Accidents['Junction_Detail'], prefix='Junction_Detail')],axis=1)\n",
    "# now drop the original 'Junction_Detail' column (you don't need it anymore)\n",
    "Merged_Accidents.drop(['Junction_Detail'],axis=1, inplace=True)\n",
    "\n",
    "#One Hot Encoding Junction_Control\n",
    "# use pd.concat to join the new columns with your original dataframe\n",
    "Merged_Accidents = pd.concat([Merged_Accidents,pd.get_dummies(Merged_Accidents['Junction_Control'], prefix='Junction_Control')],axis=1)\n",
    "# now drop the original 'Junction_Control' column (you don't need it anymore)\n",
    "Merged_Accidents.drop(['Junction_Control'],axis=1, inplace=True)\n",
    "\n",
    "#One Hot Encoding 2nd_Road_Class\n",
    "# use pd.concat to join the new columns with your original dataframe\n",
    "Merged_Accidents = pd.concat([Merged_Accidents,pd.get_dummies(Merged_Accidents['2nd_Road_Class'], prefix='2nd_Road_Class')],axis=1)\n",
    "# now drop the original '2nd_Road_Class' column (you don't need it anymore)\n",
    "Merged_Accidents.drop(['2nd_Road_Class'],axis=1, inplace=True)\n",
    "\n",
    "#One Hot Encoding Pedestrian_Crossing-Human_Control\n",
    "# use pd.concat to join the new columns with your original dataframe\n",
    "Merged_Accidents = pd.concat([Merged_Accidents,pd.get_dummies(Merged_Accidents['Pedestrian_Crossing-Human_Control'], prefix='Pedestrian_Crossing-Human_Control')],axis=1)\n",
    "# now drop the original 'Pedestrian_Crossing-Human_Control' column (you don't need it anymore)\n",
    "Merged_Accidents.drop(['Pedestrian_Crossing-Human_Control'],axis=1, inplace=True)\n",
    "\n",
    "#One Hot Encoding Pedestrian_Crossing-Physical_Facilities\n",
    "# use pd.concat to join the new columns with your original dataframe\n",
    "Merged_Accidents = pd.concat([Merged_Accidents,pd.get_dummies(Merged_Accidents['Pedestrian_Crossing-Physical_Facilities'], prefix='Pedestrian_Crossing-Physical_Facilities')],axis=1)\n",
    "# now drop the original 'Pedestrian_Crossing-Physical_Facilities' column (you don't need it anymore)\n",
    "Merged_Accidents.drop(['Pedestrian_Crossing-Physical_Facilities'],axis=1, inplace=True)\n",
    "\n",
    "#One Hot Encoding Road_Surface_Conditions\n",
    "# use pd.concat to join the new columns with your original dataframe\n",
    "Merged_Accidents = pd.concat([Merged_Accidents,pd.get_dummies(Merged_Accidents['Road_Surface_Conditions'], prefix='Road_Surface_Conditions')],axis=1)\n",
    "# now drop the original 'Road_Surface_Conditions' column (you don't need it anymore)\n",
    "Merged_Accidents.drop(['Road_Surface_Conditions'],axis=1, inplace=True)\n",
    "\n",
    "#One Hot Encoding Special_Conditions_at_Site\n",
    "# use pd.concat to join the new columns with your original dataframe\n",
    "Merged_Accidents = pd.concat([Merged_Accidents,pd.get_dummies(Merged_Accidents['Special_Conditions_at_Site'], prefix='Special_Conditions_at_Site')],axis=1)\n",
    "# now drop the original 'Special_Conditions_at_Site' column (you don't need it anymore)\n",
    "Merged_Accidents.drop(['Special_Conditions_at_Site'],axis=1, inplace=True)\n",
    "\n",
    "#One Hot Encoding Carriageway_Hazards\n",
    "# use pd.concat to join the new columns with your original dataframe\n",
    "Merged_Accidents = pd.concat([Merged_Accidents,pd.get_dummies(Merged_Accidents['Carriageway_Hazards'], prefix='Carriageway_Hazards')],axis=1)\n",
    "# now drop the original 'Carriageway_Hazards' column (you don't need it anymore)\n",
    "Merged_Accidents.drop(['Carriageway_Hazards'],axis=1, inplace=True)\n",
    "\n",
    "#One Hot Encoding Did_Police_Officer_Attend_Scene_of_Accident\n",
    "# use pd.concat to join the new columns with your original dataframe\n",
    "Merged_Accidents = pd.concat([Merged_Accidents,pd.get_dummies(Merged_Accidents['Did_Police_Officer_Attend_Scene_of_Accident'], prefix='Did_Police_Officer_Attend_Scene_of_Accident')],axis=1)\n",
    "# now drop the original 'Did_Police_Officer_Attend_Scene_of_Accident' column (you don't need it anymore)\n",
    "Merged_Accidents.drop(['Did_Police_Officer_Attend_Scene_of_Accident'],axis=1, inplace=True)\n",
    "\n",
    "#One Hot Encoding Urban_or_Rural_Area\n",
    "# use pd.concat to join the new columns with your original dataframe\n",
    "Merged_Accidents = pd.concat([Merged_Accidents,pd.get_dummies(Merged_Accidents['Urban_or_Rural_Area'], prefix='Urban_or_Rural_Area')],axis=1)\n",
    "# now drop the original 'Special_Conditions_at_Site' column (you don't need it anymore)\n",
    "Merged_Accidents.drop(['Urban_or_Rural_Area'],axis=1, inplace=True)\n",
    "\n",
    "print(Merged_Accidents.shape)\n",
    "print(list(Merged_Accidents))\n",
    "Merged_Accidents.head()"
   ]
  },
  {
   "cell_type": "code",
   "execution_count": 15,
   "metadata": {},
   "outputs": [
    {
     "data": {
      "text/plain": [
       "153"
      ]
     },
     "execution_count": 15,
     "metadata": {},
     "output_type": "execute_result"
    }
   ],
   "source": [
    "features = ['x', 'y', 'z', 'year', 'sin_day_perMonth', 'cos_day_perMonth', 'sin_time', 'cos_time', 'sin_month', 'cos_month', 'DOW_1', 'DOW_2', 'DOW_3', 'DOW_4', 'DOW_5', 'DOW_6', 'DOW_7', 'Number_of_Vehicles_1', 'Number_of_Vehicles_2', 'Number_of_Vehicles_3', 'Number_of_Vehicles_4', 'Number_of_Vehicles_5', 'Number_of_Vehicles_6', 'Number_of_Vehicles_7', 'Number_of_Vehicles_8', 'Number_of_Vehicles_9', 'Number_of_Vehicles_10', 'Number_of_Vehicles_11', 'Number_of_Vehicles_12', 'Number_of_Vehicles_13', 'Number_of_Vehicles_14', 'Number_of_Vehicles_15', 'Number_of_Vehicles_16', 'Number_of_Vehicles_100', 'Number_of_Casualties_1', 'Number_of_Casualties_2', 'Number_of_Casualties_3', 'Number_of_Casualties_4', 'Number_of_Casualties_5', 'Number_of_Casualties_6', 'Number_of_Casualties_7', 'Number_of_Casualties_8', 'Number_of_Casualties_9', 'Number_of_Casualties_10', 'Number_of_Casualties_11', 'Number_of_Casualties_12', 'Number_of_Casualties_13', 'Number_of_Casualties_14', 'Number_of_Casualties_15', 'Number_of_Casualties_1000', 'Number_of_Casualties_2000', 'Number_of_Casualties_3000', 'Number_of_Casualties_4000', 'Speed_limit_0.0', 'Speed_limit_10.0', 'Speed_limit_20.0', 'Speed_limit_30.0', 'Speed_limit_40.0', 'Speed_limit_50.0', 'Speed_limit_60.0', 'Speed_limit_70.0', 'Light_Conditions_-1', 'Light_Conditions_1', 'Light_Conditions_4', 'Light_Conditions_5', 'Light_Conditions_6', 'Light_Conditions_7', 'Weather_Conditions_-1', 'Weather_Conditions_1', 'Weather_Conditions_2', 'Weather_Conditions_3', 'Weather_Conditions_4', 'Weather_Conditions_5', 'Weather_Conditions_6', 'Weather_Conditions_7', 'Weather_Conditions_8', 'Weather_Conditions_9', 'Road_Type_-1', 'Road_Type_1', 'Road_Type_2', 'Road_Type_3', 'Road_Type_6', 'Road_Type_7', 'Road_Type_9', '1st_Road_Class_1', '1st_Road_Class_2', '1st_Road_Class_3', '1st_Road_Class_4', '1st_Road_Class_5', '1st_Road_Class_6', 'Junction_Detail_-1', 'Junction_Detail_0', 'Junction_Detail_1', 'Junction_Detail_2', 'Junction_Detail_3', 'Junction_Detail_5', 'Junction_Detail_6', 'Junction_Detail_7', 'Junction_Detail_8', 'Junction_Detail_9', 'Junction_Control_-1', 'Junction_Control_0', 'Junction_Control_1', 'Junction_Control_2', 'Junction_Control_3', 'Junction_Control_4', '2nd_Road_Class_-1', '2nd_Road_Class_1', '2nd_Road_Class_2', '2nd_Road_Class_3', '2nd_Road_Class_4', '2nd_Road_Class_5', '2nd_Road_Class_6', 'Pedestrian_Crossing-Human_Control_-1', 'Pedestrian_Crossing-Human_Control_0', 'Pedestrian_Crossing-Human_Control_1', 'Pedestrian_Crossing-Human_Control_2', 'Pedestrian_Crossing-Physical_Facilities_-1', 'Pedestrian_Crossing-Physical_Facilities_0', 'Pedestrian_Crossing-Physical_Facilities_1', 'Pedestrian_Crossing-Physical_Facilities_4', 'Pedestrian_Crossing-Physical_Facilities_5', 'Pedestrian_Crossing-Physical_Facilities_7', 'Pedestrian_Crossing-Physical_Facilities_8', 'Road_Surface_Conditions_-1', 'Road_Surface_Conditions_1', 'Road_Surface_Conditions_2', 'Road_Surface_Conditions_3', 'Road_Surface_Conditions_4', 'Road_Surface_Conditions_5', 'Special_Conditions_at_Site_-1', 'Special_Conditions_at_Site_0', 'Special_Conditions_at_Site_1', 'Special_Conditions_at_Site_2', 'Special_Conditions_at_Site_3', 'Special_Conditions_at_Site_4', 'Special_Conditions_at_Site_5', 'Special_Conditions_at_Site_6', 'Special_Conditions_at_Site_7', 'Carriageway_Hazards_-1', 'Carriageway_Hazards_0', 'Carriageway_Hazards_1', 'Carriageway_Hazards_2', 'Carriageway_Hazards_3', 'Carriageway_Hazards_6', 'Carriageway_Hazards_7', 'Did_Police_Officer_Attend_Scene_of_Accident_-1', 'Did_Police_Officer_Attend_Scene_of_Accident_1', 'Did_Police_Officer_Attend_Scene_of_Accident_2', 'Did_Police_Officer_Attend_Scene_of_Accident_3', 'Urban_or_Rural_Area_1', 'Urban_or_Rural_Area_2', 'Urban_or_Rural_Area_3']\n",
    "\n",
    "len(features)"
   ]
  },
  {
   "cell_type": "code",
   "execution_count": 16,
   "metadata": {},
   "outputs": [
    {
     "name": "stdout",
     "output_type": "stream",
     "text": [
      "(406573, 803)\n"
     ]
    }
   ],
   "source": [
    "Merged_Accidents.drop(['LSOA_of_Accident_Location'],axis=1, inplace=True)\n",
    "Merged_Accidents_NullDrop = Merged_Accidents.dropna()\n",
    "print(Merged_Accidents_NullDrop.shape)"
   ]
  },
  {
   "cell_type": "code",
   "execution_count": 17,
   "metadata": {},
   "outputs": [
    {
     "name": "stdout",
     "output_type": "stream",
     "text": [
      "Accuracy: 0.8280343029547765\n",
      "[[     1     10   1497]\n",
      " [     0     56  19390]\n",
      " [     0     78 100940]]\n",
      "              precision    recall  f1-score   support\n",
      "\n",
      "           1       1.00      0.00      0.00      1508\n",
      "           2       0.39      0.00      0.01     19446\n",
      "           3       0.83      1.00      0.91    101018\n",
      "\n",
      "   micro avg       0.83      0.83      0.83    121972\n",
      "   macro avg       0.74      0.33      0.30    121972\n",
      "weighted avg       0.76      0.83      0.75    121972\n",
      "\n"
     ]
    }
   ],
   "source": [
    "train_features, test_features, train_labels, test_labels = train_test_split(Merged_Accidents_NullDrop[features], Merged_Accidents_NullDrop['Accident_Severity'], test_size = 0.3, random_state = 21)\n",
    "\n",
    "RFC = RandomForestClassifier(n_estimators=100, class_weight='balanced', n_jobs = -1)\n",
    "\n",
    "RFC.fit(train_features, train_labels)\n",
    "\n",
    "test_pred = RFC.predict(test_features)\n",
    "\n",
    "print(\"Accuracy:\",accuracy_score(test_labels, test_pred))\n",
    "print(confusion_matrix(test_labels, test_pred))  \n",
    "print(classification_report(test_labels, test_pred))"
   ]
  },
  {
   "cell_type": "code",
   "execution_count": 18,
   "metadata": {},
   "outputs": [],
   "source": [
    "Merged_Accidents_NullDrop.to_csv('Merged_Accidents_NullDrop.csv')"
   ]
  },
  {
   "cell_type": "code",
   "execution_count": 19,
   "metadata": {},
   "outputs": [
    {
     "name": "stdout",
     "output_type": "stream",
     "text": [
      "(121972, 803)\n"
     ]
    }
   ],
   "source": [
    "weights = np.where(Merged_Accidents_NullDrop['Accident_Severity'] == 3, .2, .8)\n",
    "Merged_Accidents_NullDrop = Merged_Accidents_NullDrop.sample(frac=0.3, replace=True, weights=weights)\n",
    "print(Merged_Accidents_NullDrop.shape)"
   ]
  },
  {
   "cell_type": "code",
   "execution_count": 20,
   "metadata": {
    "scrolled": true
   },
   "outputs": [
    {
     "name": "stdout",
     "output_type": "stream",
     "text": [
      "Accuracy: 0.7370463489287276\n",
      "[[  562   335   341]\n",
      " [    3  9474  5771]\n",
      " [    1  3171 16934]]\n",
      "              precision    recall  f1-score   support\n",
      "\n",
      "           1       0.99      0.45      0.62      1238\n",
      "           2       0.73      0.62      0.67     15248\n",
      "           3       0.73      0.84      0.78     20106\n",
      "\n",
      "   micro avg       0.74      0.74      0.74     36592\n",
      "   macro avg       0.82      0.64      0.69     36592\n",
      "weighted avg       0.74      0.74      0.73     36592\n",
      "\n"
     ]
    }
   ],
   "source": [
    "train_features, test_features, train_labels, test_labels = train_test_split(Merged_Accidents_NullDrop[features], Merged_Accidents_NullDrop['Accident_Severity'], test_size = 0.3, random_state = 21)\n",
    "\n",
    "RFC = RandomForestClassifier(n_estimators=100, class_weight='balanced', n_jobs = -1)\n",
    "\n",
    "RFC.fit(train_features, train_labels)\n",
    "\n",
    "test_pred = RFC.predict(test_features)\n",
    "\n",
    "print(\"Accuracy:\",accuracy_score(test_labels, test_pred))\n",
    "print(confusion_matrix(test_labels, test_pred))  \n",
    "print(classification_report(test_labels, test_pred))"
   ]
  },
  {
   "cell_type": "code",
   "execution_count": 21,
   "metadata": {},
   "outputs": [
    {
     "name": "stdout",
     "output_type": "stream",
     "text": [
      "{'n_estimators': [200, 400, 600, 800, 1000], 'max_features': ['auto', 'sqrt'], 'min_samples_split': [2, 5, 10], 'max_depth': [10, 20, 30, 40, 50, 60, 70, 80, 90, 100, 110, None], 'min_samples_leaf': [1, 2, 4], 'bootstrap': [True, False], 'criterion': ['gini', 'entropy'], 'class_weight': ['balanced', None]}\n"
     ]
    }
   ],
   "source": [
    "from sklearn.model_selection import RandomizedSearchCV\n",
    "n_estimators = [int(x) for x in np.linspace(start = 200, stop = 1000, num = 5)]\n",
    "max_features = ['auto', 'sqrt']\n",
    "max_depth = [int(x) for x in np.linspace(10, 110, num = 11)]\n",
    "max_depth.append(None)\n",
    "min_samples_split = [2, 5, 10]\n",
    "min_samples_leaf = [1, 2, 4]\n",
    "bootstrap = [True, False]\n",
    "criterion = ['gini','entropy']\n",
    "class_weight = ['balanced', None]\n",
    "random_grid = {'n_estimators': n_estimators,\n",
    "               'max_features': max_features,\n",
    "               'min_samples_split': min_samples_split,\n",
    "               'max_depth': max_depth,\n",
    "               'min_samples_leaf': min_samples_leaf,\n",
    "               'bootstrap': bootstrap,\n",
    "               'criterion': criterion,\n",
    "               'class_weight': class_weight}\n",
    "print(random_grid)"
   ]
  },
  {
   "cell_type": "code",
   "execution_count": null,
   "metadata": {},
   "outputs": [],
   "source": [
    "train_features, test_features, train_labels, test_labels = train_test_split(Merged_Accidents_NullDrop[features], Merged_Accidents_NullDrop['Accident_Severity'], test_size = 0.25, random_state = 21)\n",
    "RFC = RandomForestClassifier()\n",
    "RFC_random = RandomizedSearchCV(estimator = rf, param_distributions = random_grid, n_iter = 20, cv = 5, verbose=2, random_state=21, n_jobs = -1, scoring='f1_weighted')\n",
    "RFC_random.fit(train_features, train_labels)"
   ]
  },
  {
   "cell_type": "code",
   "execution_count": null,
   "metadata": {},
   "outputs": [],
   "source": [
    "RFC_random.best_params_"
   ]
  },
  {
   "cell_type": "code",
   "execution_count": 23,
   "metadata": {},
   "outputs": [
    {
     "name": "stdout",
     "output_type": "stream",
     "text": [
      "Accuracy: 0.6149158285964145\n",
      "[[    3   766   469]\n",
      " [    4  6724  8520]\n",
      " [    1  4331 15774]]\n",
      "              precision    recall  f1-score   support\n",
      "\n",
      "           1       0.38      0.00      0.00      1238\n",
      "           2       0.57      0.44      0.50     15248\n",
      "           3       0.64      0.78      0.70     20106\n",
      "\n",
      "   micro avg       0.61      0.61      0.61     36592\n",
      "   macro avg       0.53      0.41      0.40     36592\n",
      "weighted avg       0.60      0.61      0.59     36592\n",
      "\n"
     ]
    }
   ],
   "source": [
    "from sklearn.ensemble import GradientBoostingClassifier\n",
    "from sklearn.metrics import classification_report, confusion_matrix, roc_curve, auc\n",
    "gb = GradientBoostingClassifier(n_estimators=100, learning_rate = 0.1, random_state = 21)\n",
    "gb.fit(train_features, train_labels)\n",
    "predictions = gb.predict(test_features)\n",
    "print(\"Accuracy:\",accuracy_score(test_labels, predictions))\n",
    "print(confusion_matrix(test_labels, predictions))  \n",
    "print(classification_report(test_labels, predictions))  "
   ]
  },
  {
   "cell_type": "code",
   "execution_count": null,
   "metadata": {},
   "outputs": [],
   "source": []
  }
 ],
 "metadata": {
  "kernelspec": {
   "display_name": "Python 3",
   "language": "python",
   "name": "python3"
  },
  "language_info": {
   "codemirror_mode": {
    "name": "ipython",
    "version": 3
   },
   "file_extension": ".py",
   "mimetype": "text/x-python",
   "name": "python",
   "nbconvert_exporter": "python",
   "pygments_lexer": "ipython3",
   "version": "3.7.1"
  }
 },
 "nbformat": 4,
 "nbformat_minor": 2
}
